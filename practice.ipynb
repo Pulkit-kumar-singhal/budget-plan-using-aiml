{
 "cells": [
  {
   "cell_type": "code",
   "execution_count": 3,
   "id": "b97ec3f9-1054-45f7-8535-d983a0e5d50e",
   "metadata": {},
   "outputs": [],
   "source": [
    "# Import necessary libraries\n",
    "import pandas as pd\n",
    "import numpy as np\n",
    "import matplotlib.pyplot as plt\n",
    "from sklearn.metrics import mean_squared_error\n",
    "from sklearn.model_selection import train_test_split\n",
    "from sklearn.ensemble import RandomForestRegressor\n",
    "from sklearn.preprocessing import StandardScaler\n",
    "from sklearn.metrics import mean_absolute_error\n",
    "from sklearn.cluster import MiniBatchKMeans\n",
    "from sklearn.metrics import silhouette_score\n",
    "from sklearn.cluster import KMeans\n",
    "from sklearn.decomposition import PCA\n",
    "from sklearn.linear_model import LogisticRegression\n",
    "from sklearn.metrics import roc_auc_score\n",
    "from sklearn.feature_selection import SelectKBest, f_classif\n",
    "from sklearn.cluster import DBSCAN \n"
   ]
  },
  {
   "cell_type": "code",
   "execution_count": 4,
   "id": "d73a5be2-2aaf-402f-a56c-3c6214767b8d",
   "metadata": {},
   "outputs": [],
   "source": [
    "# Load the datasets\n",
    "google_ads_df = pd.read_csv('googlead-performance.csv')\n",
    "meta_ads_df = pd.read_csv('metaads-performance.csv')\n",
    "microsoft_ads_df = pd.read_csv('microsoftads-performance.csv')\n",
    "website_landings_df = pd.read_csv('website-landings.csv')\n"
   ]
  },
  {
   "cell_type": "code",
   "execution_count": 5,
   "id": "0c29be23-ad0d-412b-9fd1-7f627e57f624",
   "metadata": {},
   "outputs": [
    {
     "name": "stdout",
     "output_type": "stream",
     "text": [
      "         Date    Campaign type  Impressions  Clicks    Cost  Conversions  \\\n",
      "0  2024-01-01    Cross-network     216382.0  2765.0  1957.4        136.1   \n",
      "1  2024-01-01  Display Network       3873.0    85.0    27.2          1.0   \n",
      "2  2024-01-01   Search Network       6856.0   753.0   917.3         54.7   \n",
      "3  2024-01-02    Cross-network     236636.0  2750.0  2055.9        148.9   \n",
      "4  2024-01-02  Display Network       5030.0    96.0    26.7          0.8   \n",
      "\n",
      "   Revenue  \n",
      "0  17835.5  \n",
      "1     84.6  \n",
      "2   8777.1  \n",
      "3  19639.5  \n",
      "4     91.2  \n"
     ]
    }
   ],
   "source": [
    "print(google_ads_df.head())"
   ]
  },
  {
   "cell_type": "code",
   "execution_count": 6,
   "id": "5be67e93-0eaa-4f9f-9d12-5d3eb54af1a8",
   "metadata": {},
   "outputs": [
    {
     "name": "stdout",
     "output_type": "stream",
     "text": [
      "         Date  Impressions   Reach  Cost  Clicks  Conversions  Revenue\n",
      "0  2024-01-01      11560.0  7851.0  66.5   415.0          8.0   2258.3\n",
      "1  2024-01-02       9674.0  6278.0  64.3   320.0         11.0   1894.2\n",
      "2  2024-01-03       8640.0  5414.0  63.4   276.0         12.0   1808.1\n",
      "3  2024-01-04       9057.0  5798.0  62.6   309.0          6.0   1962.0\n",
      "4  2024-01-05       9448.0  6120.0  61.7   282.0          8.0   1763.5\n"
     ]
    }
   ],
   "source": [
    "print(meta_ads_df.head())"
   ]
  },
  {
   "cell_type": "code",
   "execution_count": 7,
   "id": "2109af8e-65d2-4777-9024-6bfff3002d7d",
   "metadata": {},
   "outputs": [
    {
     "name": "stdout",
     "output_type": "stream",
     "text": [
      "         Date     Campaign type  Impressions  Clicks   Cost  Conversions  \\\n",
      "0  2024-01-01  Search & content        831.0   100.0  108.6         15.0   \n",
      "1  2024-01-01          Shopping      20128.0   316.0  149.0         13.0   \n",
      "2  2024-01-02  Search & content       1069.0   163.0  188.4         26.0   \n",
      "3  2024-01-02          Shopping      31540.0   366.0  166.9         11.0   \n",
      "4  2024-01-03  Search & content        960.0   153.0  180.7         22.0   \n",
      "\n",
      "   Revenue  \n",
      "0   2240.6  \n",
      "1   2364.3  \n",
      "2   4383.0  \n",
      "3    423.6  \n",
      "4   3035.6  \n"
     ]
    }
   ],
   "source": [
    "print(microsoft_ads_df.head())"
   ]
  },
  {
   "cell_type": "code",
   "execution_count": 8,
   "id": "6bdb4486-e117-4691-a461-61ba9d57a08e",
   "metadata": {},
   "outputs": [
    {
     "name": "stdout",
     "output_type": "stream",
     "text": [
      "    User Id Website Landing Time  Is Converted  Source         Channel  \\\n",
      "0  f7093a95  2024-02-02 01:19:03             0  google  organic search   \n",
      "1  f7093a95  2024-02-20 17:53:27             0  google  organic search   \n",
      "2  f7093a95  2024-03-03 04:51:34             0  google  organic search   \n",
      "3  f7093a95  2024-04-23 04:28:26             0     NaN          direct   \n",
      "4  f7093a95  2024-04-23 04:29:56             0     NaN          direct   \n",
      "\n",
      "  Campaign Type  \n",
      "0           NaN  \n",
      "1           NaN  \n",
      "2           NaN  \n",
      "3           NaN  \n",
      "4           NaN  \n"
     ]
    }
   ],
   "source": [
    "print(website_landings_df.head())"
   ]
  },
  {
   "cell_type": "code",
   "execution_count": 9,
   "id": "3568398e-7b1f-4b53-b052-e797e6affad7",
   "metadata": {},
   "outputs": [],
   "source": [
    "# Convert date columns to datetime\n",
    "google_ads_df['Date'] = pd.to_datetime(google_ads_df['Date'])\n",
    "meta_ads_df['Date'] = pd.to_datetime(meta_ads_df['Date'])\n",
    "microsoft_ads_df['Date'] = pd.to_datetime(microsoft_ads_df['Date'])\n",
    "website_landings_df['Website Landing Time'] = pd.to_datetime(website_landings_df['Website Landing Time'])"
   ]
  },
  {
   "cell_type": "code",
   "execution_count": 10,
   "id": "b8073072-77dd-4787-afad-aa300a79c5e1",
   "metadata": {},
   "outputs": [],
   "source": [
    "google_ads_df.fillna(0, inplace=True)\n",
    "meta_ads_df.fillna(0, inplace=True)\n",
    "microsoft_ads_df.fillna(0, inplace=True)\n",
    "website_landings_df.fillna(0, inplace=True)"
   ]
  },
  {
   "cell_type": "code",
   "execution_count": 11,
   "id": "225db501-02bf-485a-9cd4-f08c0e6db05b",
   "metadata": {},
   "outputs": [],
   "source": [
    "google_ads_df['CTR'] = google_ads_df['Clicks'] / google_ads_df['Impressions']\n",
    "google_ads_df['CPC'] = google_ads_df['Cost'] / google_ads_df['Clicks'].replace(0, np.nan)  # Handle division by zero\n",
    "\n",
    "meta_ads_df['CTR'] = meta_ads_df['Clicks'] / meta_ads_df['Impressions']\n",
    "meta_ads_df['CPC'] = meta_ads_df['Cost'] / meta_ads_df['Clicks'].replace(0, np.nan)  # Handle division by zero\n",
    "\n",
    "microsoft_ads_df['CTR'] = microsoft_ads_df['Clicks'] / microsoft_ads_df['Impressions']\n",
    "microsoft_ads_df['CPC'] = microsoft_ads_df['Cost'] / microsoft_ads_df['Clicks'].replace(0, np.nan)  # Handle division by zero\n"
   ]
  },
  {
   "cell_type": "code",
   "execution_count": 12,
   "id": "fe2003fc-3159-4623-a640-f88ac13aec73",
   "metadata": {},
   "outputs": [
    {
     "name": "stdout",
     "output_type": "stream",
     "text": [
      "\n",
      "Aggregated Website Landings Data:\n",
      "  Source      Channel Campaign Type  Total Landings  Total Conversions\n",
      "0      0       direct             0         1661350              32602\n",
      "1      0        email             0           23775                345\n",
      "2      0  paid search             0               1                  0\n",
      "3      0     referral             0           45152               1070\n",
      "4      0       social             0               2                  0\n"
     ]
    }
   ],
   "source": [
    "# Group by the correct column names and aggregate the data\n",
    "try:\n",
    "    landing_agg = website_landings_df.groupby(['Source', 'Channel', 'Campaign Type']).agg({\n",
    "        'User Id': 'count',\n",
    "        'Is Converted': 'sum'\n",
    "    }).reset_index().rename(columns={'User Id': 'Total Landings', 'Is Converted': 'Total Conversions'})\n",
    "\n",
    "    print(\"\\nAggregated Website Landings Data:\")\n",
    "    print(landing_agg.head())\n",
    "except KeyError as e:\n",
    "    print(f\"KeyError: {e}. Please check the column names and update the code accordingly.\")\n"
   ]
  },
  {
   "cell_type": "code",
   "execution_count": 13,
   "id": "e2cb42e0-d387-4933-b454-999b948cdbc7",
   "metadata": {},
   "outputs": [
    {
     "name": "stdout",
     "output_type": "stream",
     "text": [
      "         User Id           Website Landing Time  Is Converted     Source  \\\n",
      "count    2913111                        2913111  2.913111e+06  2913111.0   \n",
      "unique   1811724                            NaN           NaN       35.0   \n",
      "top     5cbc5066                            NaN           NaN        0.0   \n",
      "freq        5262                            NaN           NaN  1730280.0   \n",
      "mean         NaN  2024-03-31 04:06:15.874889984  2.072080e-02        NaN   \n",
      "min          NaN            2024-01-01 00:00:25  0.000000e+00        NaN   \n",
      "25%          NaN     2024-02-14 19:16:58.500000  0.000000e+00        NaN   \n",
      "50%          NaN            2024-03-31 02:07:44  0.000000e+00        NaN   \n",
      "75%          NaN     2024-05-12 10:14:10.500000  0.000000e+00        NaN   \n",
      "max          NaN            2024-07-01 00:01:11  1.000000e+00        NaN   \n",
      "std          NaN                            NaN  1.424481e-01        NaN   \n",
      "\n",
      "        Channel  Campaign Type  \n",
      "count   2913111      2913111.0  \n",
      "unique        7            6.0  \n",
      "top      direct            0.0  \n",
      "freq    1661350      2251491.0  \n",
      "mean        NaN            NaN  \n",
      "min         NaN            NaN  \n",
      "25%         NaN            NaN  \n",
      "50%         NaN            NaN  \n",
      "75%         NaN            NaN  \n",
      "max         NaN            NaN  \n",
      "std         NaN            NaN  \n"
     ]
    }
   ],
   "source": [
    "print(website_landings_df.describe(include='all'))  # Summary statistics for all columns\n"
   ]
  },
  {
   "cell_type": "code",
   "execution_count": 14,
   "id": "9d76b88e-20b4-47c6-9f8d-3b6d9f3b84dc",
   "metadata": {},
   "outputs": [
    {
     "name": "stdout",
     "output_type": "stream",
     "text": [
      "User Id                         object\n",
      "Website Landing Time    datetime64[ns]\n",
      "Is Converted                     int64\n",
      "Source                          object\n",
      "Channel                         object\n",
      "Campaign Type                   object\n",
      "dtype: object\n",
      "\n",
      "Aggregated Website Landings Data:\n",
      "  Source      Channel Campaign Type  Total Landings  Total Conversions\n",
      "0      0       direct             0         1661350              32602\n",
      "1      0        email             0           23775                345\n",
      "2      0  paid search             0               1                  0\n",
      "3      0     referral             0           45152               1070\n",
      "4      0       social             0               2                  0\n"
     ]
    }
   ],
   "source": [
    "# Convert 'Campaign Type' to string if it's categorical\n",
    "website_landings_df['Campaign Type'] = website_landings_df['Campaign Type'].astype(str)\n",
    "\n",
    "# Clean 'Source' column by removing or correcting placeholder values\n",
    "website_landings_df['Source'] = website_landings_df['Source'].replace('0.0', np.nan)\n",
    "\n",
    "# Drop rows where 'Source' or 'Campaign Type' is NaN if necessary\n",
    "website_landings_df.dropna(subset=['Source', 'Campaign Type'], inplace=True)\n",
    "\n",
    "# Recheck data types\n",
    "print(website_landings_df.dtypes)\n",
    "\n",
    "# Aggregate website landings data\n",
    "landing_agg = website_landings_df.groupby(['Source', 'Channel', 'Campaign Type']).agg({\n",
    "    'User Id': 'count',\n",
    "    'Is Converted': 'sum'\n",
    "}).reset_index().rename(columns={'User Id': 'Total Landings', 'Is Converted': 'Total Conversions'})\n",
    "\n",
    "print(\"\\nAggregated Website Landings Data:\")\n",
    "print(landing_agg.head())\n"
   ]
  },
  {
   "cell_type": "code",
   "execution_count": 15,
   "id": "532c265e-b072-496b-8e55-56e4a784ebc9",
   "metadata": {},
   "outputs": [
    {
     "name": "stdout",
     "output_type": "stream",
     "text": [
      "         User Id           Website Landing Time  Is Converted     Source  \\\n",
      "count    2913111                        2913111  2.913111e+06  2913111.0   \n",
      "unique   1811724                            NaN           NaN       35.0   \n",
      "top     5cbc5066                            NaN           NaN        0.0   \n",
      "freq        5262                            NaN           NaN  1730280.0   \n",
      "mean         NaN  2024-03-31 04:06:15.874889984  2.072080e-02        NaN   \n",
      "min          NaN            2024-01-01 00:00:25  0.000000e+00        NaN   \n",
      "25%          NaN     2024-02-14 19:16:58.500000  0.000000e+00        NaN   \n",
      "50%          NaN            2024-03-31 02:07:44  0.000000e+00        NaN   \n",
      "75%          NaN     2024-05-12 10:14:10.500000  0.000000e+00        NaN   \n",
      "max          NaN            2024-07-01 00:01:11  1.000000e+00        NaN   \n",
      "std          NaN                            NaN  1.424481e-01        NaN   \n",
      "\n",
      "        Channel Campaign Type  \n",
      "count   2913111       2913111  \n",
      "unique        7             6  \n",
      "top      direct             0  \n",
      "freq    1661350       2251491  \n",
      "mean        NaN           NaN  \n",
      "min         NaN           NaN  \n",
      "25%         NaN           NaN  \n",
      "50%         NaN           NaN  \n",
      "75%         NaN           NaN  \n",
      "max         NaN           NaN  \n",
      "std         NaN           NaN  \n"
     ]
    }
   ],
   "source": [
    "print(website_landings_df.describe(include='all'))  # Summary statistics for all columns\n"
   ]
  },
  {
   "cell_type": "code",
   "execution_count": 16,
   "id": "4823fea5-cd3f-4dc7-867b-ece7fef61407",
   "metadata": {},
   "outputs": [],
   "source": [
    "google_ads_df['CTR'] = google_ads_df['Clicks'] / google_ads_df['Impressions'] #Click through Rate\n",
    "google_ads_df['CPC'] = google_ads_df['Cost'] / google_ads_df['Clicks']    #Cost Per Click"
   ]
  },
  {
   "cell_type": "code",
   "execution_count": 17,
   "id": "35912950-7f44-44a6-be7f-363748e433e0",
   "metadata": {},
   "outputs": [],
   "source": [
    "meta_ads_df['CTR'] = meta_ads_df['Clicks'] / meta_ads_df['Impressions']\n",
    "meta_ads_df['CPC'] = meta_ads_df['Cost'] / meta_ads_df['Clicks']\n",
    "\n",
    "microsoft_ads_df['CTR'] = microsoft_ads_df['Clicks'] / microsoft_ads_df['Impressions']\n",
    "microsoft_ads_df['CPC'] = microsoft_ads_df['Cost'] / microsoft_ads_df['Clicks']\n"
   ]
  },
  {
   "cell_type": "code",
   "execution_count": 18,
   "id": "95e82da0-718d-436f-950a-e275e63a4e4e",
   "metadata": {},
   "outputs": [],
   "source": [
    "landing_agg = website_landings_df.groupby(['Source', 'Channel', 'Campaign Type']).agg({\n",
    "    'User Id': 'count',\n",
    "    'Is Converted': 'sum'\n",
    "}).reset_index().rename(columns={'User Id': 'Total Landings', 'Is Converted': 'Total Conversions'})"
   ]
  },
  {
   "cell_type": "code",
   "execution_count": 19,
   "id": "723e396d-6cd4-4e43-bfb8-00027eb790ff",
   "metadata": {},
   "outputs": [
    {
     "name": "stdout",
     "output_type": "stream",
     "text": [
      "\n",
      "Aggregated Website Landings Data:\n",
      "  Source      Channel Campaign Type  Total Landings  Total Conversions\n",
      "0      0       direct             0         1661350              32602\n",
      "1      0        email             0           23775                345\n",
      "2      0  paid search             0               1                  0\n",
      "3      0     referral             0           45152               1070\n",
      "4      0       social             0               2                  0\n"
     ]
    }
   ],
   "source": [
    "print(\"\\nAggregated Website Landings Data:\")\n",
    "print(landing_agg.head())\n"
   ]
  },
  {
   "cell_type": "code",
   "execution_count": 20,
   "id": "18783008-ec76-4363-8375-98d722a7a843",
   "metadata": {},
   "outputs": [],
   "source": [
    "features = ['Impressions', 'Clicks', 'Cost', 'CTR', 'CPC']\n",
    "target = 'Conversions'\n",
    "\n",
    "X = google_ads_df[features]\n",
    "y = google_ads_df[target]\n"
   ]
  },
  {
   "cell_type": "code",
   "execution_count": 21,
   "id": "227e4c21-59f5-4371-916f-594cce9c3c54",
   "metadata": {},
   "outputs": [],
   "source": [
    "scaler = StandardScaler()\n",
    "X_scaled = scaler.fit_transform(X)"
   ]
  },
  {
   "cell_type": "code",
   "execution_count": 22,
   "id": "6e578330-cd3b-41f6-9ee5-2b268616d167",
   "metadata": {},
   "outputs": [],
   "source": [
    "from sklearn.model_selection import train_test_split\n",
    "\n",
    "# Split data\n",
    "X_train, X_test, y_train, y_test = train_test_split(X, y, test_size=0.2, random_state=42)\n",
    "from sklearn.ensemble import RandomForestRegressor\n",
    "\n",
    "# Train your model\n",
    "model = RandomForestRegressor()\n",
    "model.fit(X_train, y_train)\n",
    "\n",
    "# Make predictions\n",
    "predictions = model.predict(X_test)\n",
    "\n"
   ]
  },
  {
   "cell_type": "code",
   "execution_count": 23,
   "id": "905fa303-8b7c-44f0-a8de-cbff40fdd8d2",
   "metadata": {},
   "outputs": [
    {
     "name": "stdout",
     "output_type": "stream",
     "text": [
      "Random Forest Model RMSE: 19.00\n",
      "Random Forest Model MAE: 10.86\n"
     ]
    }
   ],
   "source": [
    "rmse = np.sqrt(mean_squared_error(y_test, predictions))\n",
    "mae = mean_absolute_error(y_test, predictions)\n",
    "print(f\"Random Forest Model RMSE: {rmse:.2f}\")\n",
    "print(f\"Random Forest Model MAE: {mae:.2f}\")"
   ]
  },
  {
   "cell_type": "code",
   "execution_count": 24,
   "id": "59eb82c2-e550-4208-8750-eaae03c142cf",
   "metadata": {},
   "outputs": [
    {
     "name": "stdout",
     "output_type": "stream",
     "text": [
      "Feature: Impressions, Importance: 0.1276\n",
      "Feature: Clicks, Importance: 0.4922\n",
      "Feature: Cost, Importance: 0.2525\n",
      "Feature: CTR, Importance: 0.0198\n",
      "Feature: CPC, Importance: 0.1080\n"
     ]
    }
   ],
   "source": [
    "feature_importances = model.feature_importances_\n",
    "for feature, importance in zip(features, feature_importances):\n",
    "    print(f\"Feature: {feature}, Importance: {importance:.4f}\")\n",
    "\n"
   ]
  },
  {
   "cell_type": "code",
   "execution_count": 25,
   "id": "6ab0a06b-335e-4049-be8f-4bcd90ff88b6",
   "metadata": {},
   "outputs": [
    {
     "name": "stdout",
     "output_type": "stream",
     "text": [
      "\n",
      "Customer Segmentation:\n",
      "    User Id Website Landing Time  Is Converted  Source         Channel  \\\n",
      "0  f7093a95  2024-02-02 01:19:03             0  google  organic search   \n",
      "1  f7093a95  2024-02-20 17:53:27             0  google  organic search   \n",
      "2  f7093a95  2024-03-03 04:51:34             0  google  organic search   \n",
      "3  f7093a95  2024-04-23 04:28:26             0       0          direct   \n",
      "4  f7093a95  2024-04-23 04:29:56             0       0          direct   \n",
      "\n",
      "  Campaign Type  Cluster  \n",
      "0             0        0  \n",
      "1             0        0  \n",
      "2             0        0  \n",
      "3             0        1  \n",
      "4             0        1  \n"
     ]
    }
   ],
   "source": [
    "# Customer Segmentation using KMeans\n",
    "# kmeans = KMeans(n_clusters=5, random_state=42)\n",
    "# website_landings_df['Cluster'] = kmeans.fit_predict(website_landings_df[['Is Converted']])\n",
    "# Example of additional features\n",
    "features = ['Is Converted', 'Source', 'Channel']  # Add more relevant features\n",
    "X = pd.get_dummies(website_landings_df[features],drop_first=True)  # Convert categorical features to numerical\n",
    "\n",
    "kmeans = KMeans(n_clusters=5, random_state=42)\n",
    "website_landings_df['Cluster'] = kmeans.fit_predict(X)\n",
    "\n",
    "print(\"\\nCustomer Segmentation:\")\n",
    "print(website_landings_df.head())\n",
    "\n"
   ]
  },
  {
   "cell_type": "code",
   "execution_count": 26,
   "id": "90653a20-01d6-47de-ba88-e72914129071",
   "metadata": {},
   "outputs": [
    {
     "name": "stdout",
     "output_type": "stream",
     "text": [
      "\n",
      "Cluster Sizes:\n",
      "Cluster\n",
      "1    1739568\n",
      "2     661620\n",
      "3     229116\n",
      "0     179591\n",
      "4     103216\n",
      "Name: count, dtype: int64\n"
     ]
    }
   ],
   "source": [
    "# Check the number of data points in each cluster\n",
    "cluster_counts = website_landings_df['Cluster'].value_counts()\n",
    "print(\"\\nCluster Sizes:\")\n",
    "print(cluster_counts)\n"
   ]
  },
  {
   "cell_type": "code",
   "execution_count": 27,
   "id": "cfbbd812-5106-419f-9841-936d453c4663",
   "metadata": {},
   "outputs": [],
   "source": [
    "sample_df = website_landings_df.sample(frac=0.1, random_state=42)\n",
    "X_sample = pd.get_dummies(sample_df[['Is Converted', 'Source', 'Channel']], drop_first=True)"
   ]
  },
  {
   "cell_type": "code",
   "execution_count": 29,
   "id": "00891575-740a-4822-91e4-fa537a464df6",
   "metadata": {},
   "outputs": [],
   "source": [
    "# # # # Testing different number of clusters\n",
    "\n",
    "# # # for n_clusters in range(2, 11):\n",
    "# # #     kmeans = MiniBatchKMeans(n_clusters=n_clusters, random_state=42)\n",
    "# # #     sample_df['Cluster'] = kmeans.fit_predict(sample_df[['Is Converted']])\n",
    "# # #     silhouette_avg = silhouette_score(sample_df[['Is Converted']], sample_df['Cluster'])\n",
    "# # #     print(f'Number of clusters: {n_clusters}, Silhouette Score: {silhouette_avg}') \n",
    "# # for n_clusters in range(2, 11):\n",
    "# #     kmeans = MiniBatchKMeans(n_clusters=n_clusters, random_state=42, batch_size=100)  # Adjust batch_size if needed\n",
    "# #     sample_df['Cluster'] = kmeans.fit_predict(X_sample)\n",
    "    \n",
    "# #     # Calculate silhouette score only if more than 1 cluster is formed\n",
    "# #     if len(set(sample_df['Cluster'])) > 1:\n",
    "# #         silhouette_avg = silhouette_score(X_sample, sample_df['Cluster'])\n",
    "# #         print(f'Number of clusters: {cluster_counts}, Silhouette Score: {silhouette_avg:.2f}')\n",
    "# #     else:\n",
    "# #         print(f'Number of clusters: {cluster_counts}, Silhouette Score: Not applicable (single cluster)')\n",
    "# for n_clusters in range(2, 11):\n",
    "#     kmeans = MiniBatchKMeans(n_clusters=n_clusters, random_state=42, batch_size=100)\n",
    "#     sample_df['Cluster'] = kmeans.fit_predict(X_sample)\n",
    "#     inertia = kmeans.inertia_\n",
    "#     print(f'Number of clusters: {n_clusters}, Inertia: {inertia:.2f}')\n"
   ]
  },
  {
   "cell_type": "code",
   "execution_count": 32,
   "id": "8e135489-b091-4fe9-b9e3-ceec1e4e23c6",
   "metadata": {},
   "outputs": [
    {
     "data": {
      "image/png": "[encoded data removed]",
      "text/plain": [
       "<Figure size 1000x600 with 2 Axes>"
      ]
     },
     "metadata": {},
     "output_type": "display_data"
    },
    {
     "ename": "KeyboardInterrupt",
     "evalue": "",
     "output_type": "error",
     "traceback": [
      "\u001b[0;31m---------------------------------------------------------------------------\u001b[0m",
      "\u001b[0;31mKeyboardInterrupt\u001b[0m                         Traceback (most recent call last)",
      "Cell \u001b[0;32mIn[32], line 15\u001b[0m\n\u001b[1;32m     13\u001b[0m \u001b[38;5;66;03m# DBSCAN clustering\u001b[39;00m\n\u001b[1;32m     14\u001b[0m dbscan \u001b[38;5;241m=\u001b[39m DBSCAN(eps\u001b[38;5;241m=\u001b[39m\u001b[38;5;241m0.5\u001b[39m, min_samples\u001b[38;5;241m=\u001b[39m\u001b[38;5;241m5\u001b[39m)\n\u001b[0;32m---> 15\u001b[0m website_landings_df[\u001b[38;5;124m'\u001b[39m\u001b[38;5;124mCluster\u001b[39m\u001b[38;5;124m'\u001b[39m] \u001b[38;5;241m=\u001b[39m \u001b[43mdbscan\u001b[49m\u001b[38;5;241;43m.\u001b[39;49m\u001b[43mfit_predict\u001b[49m\u001b[43m(\u001b[49m\u001b[43mX\u001b[49m\u001b[43m)\u001b[49m\n\u001b[1;32m     16\u001b[0m cluster_counts_dbscan \u001b[38;5;241m=\u001b[39m website_landings_df[\u001b[38;5;124m'\u001b[39m\u001b[38;5;124mCluster\u001b[39m\u001b[38;5;124m'\u001b[39m]\u001b[38;5;241m.\u001b[39mvalue_counts()\n\u001b[1;32m     17\u001b[0m \u001b[38;5;28mprint\u001b[39m(\u001b[38;5;124m\"\u001b[39m\u001b[38;5;130;01m\\n\u001b[39;00m\u001b[38;5;124mDBSCAN Cluster Sizes:\u001b[39m\u001b[38;5;124m\"\u001b[39m)\n",
      "File \u001b[0;32m~/Library/Python/3.12/lib/python/site-packages/sklearn/cluster/_dbscan.py:474\u001b[0m, in \u001b[0;36mDBSCAN.fit_predict\u001b[0;34m(self, X, y, sample_weight)\u001b[0m\n\u001b[1;32m    449\u001b[0m \u001b[38;5;28;01mdef\u001b[39;00m \u001b[38;5;21mfit_predict\u001b[39m(\u001b[38;5;28mself\u001b[39m, X, y\u001b[38;5;241m=\u001b[39m\u001b[38;5;28;01mNone\u001b[39;00m, sample_weight\u001b[38;5;241m=\u001b[39m\u001b[38;5;28;01mNone\u001b[39;00m):\n\u001b[1;32m    450\u001b[0m \u001b[38;5;250m    \u001b[39m\u001b[38;5;124;03m\"\"\"Compute clusters from a data or distance matrix and predict labels.\u001b[39;00m\n\u001b[1;32m    451\u001b[0m \n\u001b[1;32m    452\u001b[0m \u001b[38;5;124;03m    Parameters\u001b[39;00m\n\u001b[0;32m   (...)\u001b[0m\n\u001b[1;32m    472\u001b[0m \u001b[38;5;124;03m        Cluster labels. Noisy samples are given the label -1.\u001b[39;00m\n\u001b[1;32m    473\u001b[0m \u001b[38;5;124;03m    \"\"\"\u001b[39;00m\n\u001b[0;32m--> 474\u001b[0m     \u001b[38;5;28;43mself\u001b[39;49m\u001b[38;5;241;43m.\u001b[39;49m\u001b[43mfit\u001b[49m\u001b[43m(\u001b[49m\u001b[43mX\u001b[49m\u001b[43m,\u001b[49m\u001b[43m \u001b[49m\u001b[43msample_weight\u001b[49m\u001b[38;5;241;43m=\u001b[39;49m\u001b[43msample_weight\u001b[49m\u001b[43m)\u001b[49m\n\u001b[1;32m    475\u001b[0m     \u001b[38;5;28;01mreturn\u001b[39;00m \u001b[38;5;28mself\u001b[39m\u001b[38;5;241m.\u001b[39mlabels_\n",
      "File \u001b[0;32m~/Library/Python/3.12/lib/python/site-packages/sklearn/base.py:1473\u001b[0m, in \u001b[0;36m_fit_context.<locals>.decorator.<locals>.wrapper\u001b[0;34m(estimator, *args, **kwargs)\u001b[0m\n\u001b[1;32m   1466\u001b[0m     estimator\u001b[38;5;241m.\u001b[39m_validate_params()\n\u001b[1;32m   1468\u001b[0m \u001b[38;5;28;01mwith\u001b[39;00m config_context(\n\u001b[1;32m   1469\u001b[0m     skip_parameter_validation\u001b[38;5;241m=\u001b[39m(\n\u001b[1;32m   1470\u001b[0m         prefer_skip_nested_validation \u001b[38;5;129;01mor\u001b[39;00m global_skip_validation\n\u001b[1;32m   1471\u001b[0m     )\n\u001b[1;32m   1472\u001b[0m ):\n\u001b[0;32m-> 1473\u001b[0m     \u001b[38;5;28;01mreturn\u001b[39;00m \u001b[43mfit_method\u001b[49m\u001b[43m(\u001b[49m\u001b[43mestimator\u001b[49m\u001b[43m,\u001b[49m\u001b[43m \u001b[49m\u001b[38;5;241;43m*\u001b[39;49m\u001b[43margs\u001b[49m\u001b[43m,\u001b[49m\u001b[43m \u001b[49m\u001b[38;5;241;43m*\u001b[39;49m\u001b[38;5;241;43m*\u001b[39;49m\u001b[43mkwargs\u001b[49m\u001b[43m)\u001b[49m\n",
      "File \u001b[0;32m~/Library/Python/3.12/lib/python/site-packages/sklearn/cluster/_dbscan.py:422\u001b[0m, in \u001b[0;36mDBSCAN.fit\u001b[0;34m(self, X, y, sample_weight)\u001b[0m\n\u001b[1;32m    420\u001b[0m neighbors_model\u001b[38;5;241m.\u001b[39mfit(X)\n\u001b[1;32m    421\u001b[0m \u001b[38;5;66;03m# This has worst case O(n^2) memory complexity\u001b[39;00m\n\u001b[0;32m--> 422\u001b[0m neighborhoods \u001b[38;5;241m=\u001b[39m \u001b[43mneighbors_model\u001b[49m\u001b[38;5;241;43m.\u001b[39;49m\u001b[43mradius_neighbors\u001b[49m\u001b[43m(\u001b[49m\u001b[43mX\u001b[49m\u001b[43m,\u001b[49m\u001b[43m \u001b[49m\u001b[43mreturn_distance\u001b[49m\u001b[38;5;241;43m=\u001b[39;49m\u001b[38;5;28;43;01mFalse\u001b[39;49;00m\u001b[43m)\u001b[49m\n\u001b[1;32m    424\u001b[0m \u001b[38;5;28;01mif\u001b[39;00m sample_weight \u001b[38;5;129;01mis\u001b[39;00m \u001b[38;5;28;01mNone\u001b[39;00m:\n\u001b[1;32m    425\u001b[0m     n_neighbors \u001b[38;5;241m=\u001b[39m np\u001b[38;5;241m.\u001b[39marray([\u001b[38;5;28mlen\u001b[39m(neighbors) \u001b[38;5;28;01mfor\u001b[39;00m neighbors \u001b[38;5;129;01min\u001b[39;00m neighborhoods])\n",
      "File \u001b[0;32m~/Library/Python/3.12/lib/python/site-packages/sklearn/neighbors/_base.py:1241\u001b[0m, in \u001b[0;36mRadiusNeighborsMixin.radius_neighbors\u001b[0;34m(self, X, radius, return_distance, sort_results)\u001b[0m\n\u001b[1;32m   1239\u001b[0m     results \u001b[38;5;241m=\u001b[39m neigh_dist, neigh_ind\n\u001b[1;32m   1240\u001b[0m \u001b[38;5;28;01melse\u001b[39;00m:\n\u001b[0;32m-> 1241\u001b[0m     neigh_ind_list \u001b[38;5;241m=\u001b[39m \u001b[38;5;28;43msum\u001b[39;49m\u001b[43m(\u001b[49m\u001b[43mchunked_results\u001b[49m\u001b[43m,\u001b[49m\u001b[43m \u001b[49m\u001b[43m[\u001b[49m\u001b[43m]\u001b[49m\u001b[43m)\u001b[49m\n\u001b[1;32m   1242\u001b[0m     results \u001b[38;5;241m=\u001b[39m _to_object_array(neigh_ind_list)\n\u001b[1;32m   1244\u001b[0m \u001b[38;5;28;01mif\u001b[39;00m sort_results:\n",
      "File \u001b[0;32m~/Library/Python/3.12/lib/python/site-packages/sklearn/metrics/pairwise.py:2172\u001b[0m, in \u001b[0;36mpairwise_distances_chunked\u001b[0;34m(X, Y, reduce_func, metric, n_jobs, working_memory, **kwds)\u001b[0m\n\u001b[1;32m   2170\u001b[0m \u001b[38;5;28;01melse\u001b[39;00m:\n\u001b[1;32m   2171\u001b[0m     X_chunk \u001b[38;5;241m=\u001b[39m X[sl]\n\u001b[0;32m-> 2172\u001b[0m D_chunk \u001b[38;5;241m=\u001b[39m \u001b[43mpairwise_distances\u001b[49m\u001b[43m(\u001b[49m\u001b[43mX_chunk\u001b[49m\u001b[43m,\u001b[49m\u001b[43m \u001b[49m\u001b[43mY\u001b[49m\u001b[43m,\u001b[49m\u001b[43m \u001b[49m\u001b[43mmetric\u001b[49m\u001b[38;5;241;43m=\u001b[39;49m\u001b[43mmetric\u001b[49m\u001b[43m,\u001b[49m\u001b[43m \u001b[49m\u001b[43mn_jobs\u001b[49m\u001b[38;5;241;43m=\u001b[39;49m\u001b[43mn_jobs\u001b[49m\u001b[43m,\u001b[49m\u001b[43m \u001b[49m\u001b[38;5;241;43m*\u001b[39;49m\u001b[38;5;241;43m*\u001b[39;49m\u001b[43mkwds\u001b[49m\u001b[43m)\u001b[49m\n\u001b[1;32m   2173\u001b[0m \u001b[38;5;28;01mif\u001b[39;00m (X \u001b[38;5;129;01mis\u001b[39;00m Y \u001b[38;5;129;01mor\u001b[39;00m Y \u001b[38;5;129;01mis\u001b[39;00m \u001b[38;5;28;01mNone\u001b[39;00m) \u001b[38;5;129;01mand\u001b[39;00m PAIRWISE_DISTANCE_FUNCTIONS\u001b[38;5;241m.\u001b[39mget(\n\u001b[1;32m   2174\u001b[0m     metric, \u001b[38;5;28;01mNone\u001b[39;00m\n\u001b[1;32m   2175\u001b[0m ) \u001b[38;5;129;01mis\u001b[39;00m euclidean_distances:\n\u001b[1;32m   2176\u001b[0m     \u001b[38;5;66;03m# zeroing diagonal, taking care of aliases of \"euclidean\",\u001b[39;00m\n\u001b[1;32m   2177\u001b[0m     \u001b[38;5;66;03m# i.e. \"l2\"\u001b[39;00m\n\u001b[1;32m   2178\u001b[0m     D_chunk\u001b[38;5;241m.\u001b[39mflat[sl\u001b[38;5;241m.\u001b[39mstart :: _num_samples(X) \u001b[38;5;241m+\u001b[39m \u001b[38;5;241m1\u001b[39m] \u001b[38;5;241m=\u001b[39m \u001b[38;5;241m0\u001b[39m\n",
      "File \u001b[0;32m~/Library/Python/3.12/lib/python/site-packages/sklearn/utils/_param_validation.py:213\u001b[0m, in \u001b[0;36mvalidate_params.<locals>.decorator.<locals>.wrapper\u001b[0;34m(*args, **kwargs)\u001b[0m\n\u001b[1;32m    207\u001b[0m \u001b[38;5;28;01mtry\u001b[39;00m:\n\u001b[1;32m    208\u001b[0m     \u001b[38;5;28;01mwith\u001b[39;00m config_context(\n\u001b[1;32m    209\u001b[0m         skip_parameter_validation\u001b[38;5;241m=\u001b[39m(\n\u001b[1;32m    210\u001b[0m             prefer_skip_nested_validation \u001b[38;5;129;01mor\u001b[39;00m global_skip_validation\n\u001b[1;32m    211\u001b[0m         )\n\u001b[1;32m    212\u001b[0m     ):\n\u001b[0;32m--> 213\u001b[0m         \u001b[38;5;28;01mreturn\u001b[39;00m \u001b[43mfunc\u001b[49m\u001b[43m(\u001b[49m\u001b[38;5;241;43m*\u001b[39;49m\u001b[43margs\u001b[49m\u001b[43m,\u001b[49m\u001b[43m \u001b[49m\u001b[38;5;241;43m*\u001b[39;49m\u001b[38;5;241;43m*\u001b[39;49m\u001b[43mkwargs\u001b[49m\u001b[43m)\u001b[49m\n\u001b[1;32m    214\u001b[0m \u001b[38;5;28;01mexcept\u001b[39;00m InvalidParameterError \u001b[38;5;28;01mas\u001b[39;00m e:\n\u001b[1;32m    215\u001b[0m     \u001b[38;5;66;03m# When the function is just a wrapper around an estimator, we allow\u001b[39;00m\n\u001b[1;32m    216\u001b[0m     \u001b[38;5;66;03m# the function to delegate validation to the estimator, but we replace\u001b[39;00m\n\u001b[1;32m    217\u001b[0m     \u001b[38;5;66;03m# the name of the estimator by the name of the function in the error\u001b[39;00m\n\u001b[1;32m    218\u001b[0m     \u001b[38;5;66;03m# message to avoid confusion.\u001b[39;00m\n\u001b[1;32m    219\u001b[0m     msg \u001b[38;5;241m=\u001b[39m re\u001b[38;5;241m.\u001b[39msub(\n\u001b[1;32m    220\u001b[0m         \u001b[38;5;124mr\u001b[39m\u001b[38;5;124m\"\u001b[39m\u001b[38;5;124mparameter of \u001b[39m\u001b[38;5;124m\\\u001b[39m\u001b[38;5;124mw+ must be\u001b[39m\u001b[38;5;124m\"\u001b[39m,\n\u001b[1;32m    221\u001b[0m         \u001b[38;5;124mf\u001b[39m\u001b[38;5;124m\"\u001b[39m\u001b[38;5;124mparameter of \u001b[39m\u001b[38;5;132;01m{\u001b[39;00mfunc\u001b[38;5;241m.\u001b[39m\u001b[38;5;18m__qualname__\u001b[39m\u001b[38;5;132;01m}\u001b[39;00m\u001b[38;5;124m must be\u001b[39m\u001b[38;5;124m\"\u001b[39m,\n\u001b[1;32m    222\u001b[0m         \u001b[38;5;28mstr\u001b[39m(e),\n\u001b[1;32m    223\u001b[0m     )\n",
      "File \u001b[0;32m~/Library/Python/3.12/lib/python/site-packages/sklearn/metrics/pairwise.py:2375\u001b[0m, in \u001b[0;36mpairwise_distances\u001b[0;34m(X, Y, metric, n_jobs, force_all_finite, **kwds)\u001b[0m\n\u001b[1;32m   2372\u001b[0m         \u001b[38;5;28;01mreturn\u001b[39;00m distance\u001b[38;5;241m.\u001b[39msquareform(distance\u001b[38;5;241m.\u001b[39mpdist(X, metric\u001b[38;5;241m=\u001b[39mmetric, \u001b[38;5;241m*\u001b[39m\u001b[38;5;241m*\u001b[39mkwds))\n\u001b[1;32m   2373\u001b[0m     func \u001b[38;5;241m=\u001b[39m partial(distance\u001b[38;5;241m.\u001b[39mcdist, metric\u001b[38;5;241m=\u001b[39mmetric, \u001b[38;5;241m*\u001b[39m\u001b[38;5;241m*\u001b[39mkwds)\n\u001b[0;32m-> 2375\u001b[0m \u001b[38;5;28;01mreturn\u001b[39;00m \u001b[43m_parallel_pairwise\u001b[49m\u001b[43m(\u001b[49m\u001b[43mX\u001b[49m\u001b[43m,\u001b[49m\u001b[43m \u001b[49m\u001b[43mY\u001b[49m\u001b[43m,\u001b[49m\u001b[43m \u001b[49m\u001b[43mfunc\u001b[49m\u001b[43m,\u001b[49m\u001b[43m \u001b[49m\u001b[43mn_jobs\u001b[49m\u001b[43m,\u001b[49m\u001b[43m \u001b[49m\u001b[38;5;241;43m*\u001b[39;49m\u001b[38;5;241;43m*\u001b[39;49m\u001b[43mkwds\u001b[49m\u001b[43m)\u001b[49m\n",
      "File \u001b[0;32m~/Library/Python/3.12/lib/python/site-packages/sklearn/metrics/pairwise.py:1893\u001b[0m, in \u001b[0;36m_parallel_pairwise\u001b[0;34m(X, Y, func, n_jobs, **kwds)\u001b[0m\n\u001b[1;32m   1890\u001b[0m X, Y, dtype \u001b[38;5;241m=\u001b[39m _return_float_dtype(X, Y)\n\u001b[1;32m   1892\u001b[0m \u001b[38;5;28;01mif\u001b[39;00m effective_n_jobs(n_jobs) \u001b[38;5;241m==\u001b[39m \u001b[38;5;241m1\u001b[39m:\n\u001b[0;32m-> 1893\u001b[0m     \u001b[38;5;28;01mreturn\u001b[39;00m \u001b[43mfunc\u001b[49m\u001b[43m(\u001b[49m\u001b[43mX\u001b[49m\u001b[43m,\u001b[49m\u001b[43m \u001b[49m\u001b[43mY\u001b[49m\u001b[43m,\u001b[49m\u001b[43m \u001b[49m\u001b[38;5;241;43m*\u001b[39;49m\u001b[38;5;241;43m*\u001b[39;49m\u001b[43mkwds\u001b[49m\u001b[43m)\u001b[49m\n\u001b[1;32m   1895\u001b[0m \u001b[38;5;66;03m# enforce a threading backend to prevent data communication overhead\u001b[39;00m\n\u001b[1;32m   1896\u001b[0m fd \u001b[38;5;241m=\u001b[39m delayed(_dist_wrapper)\n",
      "File \u001b[0;32m~/Library/Python/3.12/lib/python/site-packages/sklearn/utils/_param_validation.py:186\u001b[0m, in \u001b[0;36mvalidate_params.<locals>.decorator.<locals>.wrapper\u001b[0;34m(*args, **kwargs)\u001b[0m\n\u001b[1;32m    184\u001b[0m global_skip_validation \u001b[38;5;241m=\u001b[39m get_config()[\u001b[38;5;124m\"\u001b[39m\u001b[38;5;124mskip_parameter_validation\u001b[39m\u001b[38;5;124m\"\u001b[39m]\n\u001b[1;32m    185\u001b[0m \u001b[38;5;28;01mif\u001b[39;00m global_skip_validation:\n\u001b[0;32m--> 186\u001b[0m     \u001b[38;5;28;01mreturn\u001b[39;00m \u001b[43mfunc\u001b[49m\u001b[43m(\u001b[49m\u001b[38;5;241;43m*\u001b[39;49m\u001b[43margs\u001b[49m\u001b[43m,\u001b[49m\u001b[43m \u001b[49m\u001b[38;5;241;43m*\u001b[39;49m\u001b[38;5;241;43m*\u001b[39;49m\u001b[43mkwargs\u001b[49m\u001b[43m)\u001b[49m\n\u001b[1;32m    188\u001b[0m func_sig \u001b[38;5;241m=\u001b[39m signature(func)\n\u001b[1;32m    190\u001b[0m \u001b[38;5;66;03m# Map *args/**kwargs to the function signature\u001b[39;00m\n",
      "File \u001b[0;32m~/Library/Python/3.12/lib/python/site-packages/sklearn/metrics/pairwise.py:372\u001b[0m, in \u001b[0;36meuclidean_distances\u001b[0;34m(X, Y, Y_norm_squared, squared, X_norm_squared)\u001b[0m\n\u001b[1;32m    366\u001b[0m     \u001b[38;5;28;01mif\u001b[39;00m Y_norm_squared\u001b[38;5;241m.\u001b[39mshape \u001b[38;5;241m!=\u001b[39m (\u001b[38;5;241m1\u001b[39m, Y\u001b[38;5;241m.\u001b[39mshape[\u001b[38;5;241m0\u001b[39m]):\n\u001b[1;32m    367\u001b[0m         \u001b[38;5;28;01mraise\u001b[39;00m \u001b[38;5;167;01mValueError\u001b[39;00m(\n\u001b[1;32m    368\u001b[0m             \u001b[38;5;124mf\u001b[39m\u001b[38;5;124m\"\u001b[39m\u001b[38;5;124mIncompatible dimensions for Y of shape \u001b[39m\u001b[38;5;132;01m{\u001b[39;00mY\u001b[38;5;241m.\u001b[39mshape\u001b[38;5;132;01m}\u001b[39;00m\u001b[38;5;124m and \u001b[39m\u001b[38;5;124m\"\u001b[39m\n\u001b[1;32m    369\u001b[0m             \u001b[38;5;124mf\u001b[39m\u001b[38;5;124m\"\u001b[39m\u001b[38;5;124mY_norm_squared of shape \u001b[39m\u001b[38;5;132;01m{\u001b[39;00moriginal_shape\u001b[38;5;132;01m}\u001b[39;00m\u001b[38;5;124m.\u001b[39m\u001b[38;5;124m\"\u001b[39m\n\u001b[1;32m    370\u001b[0m         )\n\u001b[0;32m--> 372\u001b[0m \u001b[38;5;28;01mreturn\u001b[39;00m \u001b[43m_euclidean_distances\u001b[49m\u001b[43m(\u001b[49m\u001b[43mX\u001b[49m\u001b[43m,\u001b[49m\u001b[43m \u001b[49m\u001b[43mY\u001b[49m\u001b[43m,\u001b[49m\u001b[43m \u001b[49m\u001b[43mX_norm_squared\u001b[49m\u001b[43m,\u001b[49m\u001b[43m \u001b[49m\u001b[43mY_norm_squared\u001b[49m\u001b[43m,\u001b[49m\u001b[43m \u001b[49m\u001b[43msquared\u001b[49m\u001b[43m)\u001b[49m\n",
      "File \u001b[0;32m~/Library/Python/3.12/lib/python/site-packages/sklearn/metrics/pairwise.py:407\u001b[0m, in \u001b[0;36m_euclidean_distances\u001b[0;34m(X, Y, X_norm_squared, Y_norm_squared, squared)\u001b[0m\n\u001b[1;32m    404\u001b[0m     distances \u001b[38;5;241m=\u001b[39m _euclidean_distances_upcast(X, XX, Y, YY)\n\u001b[1;32m    405\u001b[0m \u001b[38;5;28;01melse\u001b[39;00m:\n\u001b[1;32m    406\u001b[0m     \u001b[38;5;66;03m# if dtype is already float64, no need to chunk and upcast\u001b[39;00m\n\u001b[0;32m--> 407\u001b[0m     distances \u001b[38;5;241m=\u001b[39m \u001b[38;5;241m-\u001b[39m\u001b[38;5;241m2\u001b[39m \u001b[38;5;241m*\u001b[39m \u001b[43msafe_sparse_dot\u001b[49m\u001b[43m(\u001b[49m\u001b[43mX\u001b[49m\u001b[43m,\u001b[49m\u001b[43m \u001b[49m\u001b[43mY\u001b[49m\u001b[38;5;241;43m.\u001b[39;49m\u001b[43mT\u001b[49m\u001b[43m,\u001b[49m\u001b[43m \u001b[49m\u001b[43mdense_output\u001b[49m\u001b[38;5;241;43m=\u001b[39;49m\u001b[38;5;28;43;01mTrue\u001b[39;49;00m\u001b[43m)\u001b[49m\n\u001b[1;32m    408\u001b[0m     distances \u001b[38;5;241m+\u001b[39m\u001b[38;5;241m=\u001b[39m XX\n\u001b[1;32m    409\u001b[0m     distances \u001b[38;5;241m+\u001b[39m\u001b[38;5;241m=\u001b[39m YY\n",
      "File \u001b[0;32m~/Library/Python/3.12/lib/python/site-packages/sklearn/utils/extmath.py:208\u001b[0m, in \u001b[0;36msafe_sparse_dot\u001b[0;34m(a, b, dense_output)\u001b[0m\n\u001b[1;32m    204\u001b[0m \u001b[38;5;28;01melse\u001b[39;00m:\n\u001b[1;32m    205\u001b[0m     ret \u001b[38;5;241m=\u001b[39m a \u001b[38;5;241m@\u001b[39m b\n\u001b[1;32m    207\u001b[0m \u001b[38;5;28;01mif\u001b[39;00m (\n\u001b[0;32m--> 208\u001b[0m     \u001b[43msparse\u001b[49m\u001b[38;5;241;43m.\u001b[39;49m\u001b[43missparse\u001b[49m\u001b[43m(\u001b[49m\u001b[43ma\u001b[49m\u001b[43m)\u001b[49m\n\u001b[1;32m    209\u001b[0m     \u001b[38;5;129;01mand\u001b[39;00m sparse\u001b[38;5;241m.\u001b[39missparse(b)\n\u001b[1;32m    210\u001b[0m     \u001b[38;5;129;01mand\u001b[39;00m dense_output\n\u001b[1;32m    211\u001b[0m     \u001b[38;5;129;01mand\u001b[39;00m \u001b[38;5;28mhasattr\u001b[39m(ret, \u001b[38;5;124m\"\u001b[39m\u001b[38;5;124mtoarray\u001b[39m\u001b[38;5;124m\"\u001b[39m)\n\u001b[1;32m    212\u001b[0m ):\n\u001b[1;32m    213\u001b[0m     \u001b[38;5;28;01mreturn\u001b[39;00m ret\u001b[38;5;241m.\u001b[39mtoarray()\n\u001b[1;32m    214\u001b[0m \u001b[38;5;28;01mreturn\u001b[39;00m ret\n",
      "File \u001b[0;32m~/Library/Python/3.12/lib/python/site-packages/scipy/sparse/_base.py:1335\u001b[0m, in \u001b[0;36missparse\u001b[0;34m(x)\u001b[0m\n\u001b[1;32m   1329\u001b[0m \u001b[38;5;250m    \u001b[39m\u001b[38;5;124;03m\"\"\"A namespace class to separate sparray from spmatrix\"\"\"\u001b[39;00m\n\u001b[1;32m   1332\u001b[0m sparray\u001b[38;5;241m.\u001b[39m\u001b[38;5;18m__doc__\u001b[39m \u001b[38;5;241m=\u001b[39m _spbase\u001b[38;5;241m.\u001b[39m\u001b[38;5;18m__doc__\u001b[39m\n\u001b[0;32m-> 1335\u001b[0m \u001b[38;5;28;01mdef\u001b[39;00m \u001b[38;5;21missparse\u001b[39m(x):\n\u001b[1;32m   1336\u001b[0m \u001b[38;5;250m    \u001b[39m\u001b[38;5;124;03m\"\"\"Is `x` of a sparse array or sparse matrix type?\u001b[39;00m\n\u001b[1;32m   1337\u001b[0m \n\u001b[1;32m   1338\u001b[0m \u001b[38;5;124;03m    Parameters\u001b[39;00m\n\u001b[0;32m   (...)\u001b[0m\n\u001b[1;32m   1359\u001b[0m \u001b[38;5;124;03m    False\u001b[39;00m\n\u001b[1;32m   1360\u001b[0m \u001b[38;5;124;03m    \"\"\"\u001b[39;00m\n\u001b[1;32m   1361\u001b[0m     \u001b[38;5;28;01mreturn\u001b[39;00m \u001b[38;5;28misinstance\u001b[39m(x, _spbase)\n",
      "\u001b[0;31mKeyboardInterrupt\u001b[0m: "
     ]
    }
   ],
   "source": [
    "X_scaled = StandardScaler().fit_transform(X)\n",
    "pca = PCA(n_components=2)\n",
    "X_pca = pca.fit_transform(X_scaled)\n",
    "\n",
    "plt.figure(figsize=(10, 6))\n",
    "plt.scatter(X_pca[:, 0], X_pca[:, 1], c=website_landings_df['Cluster'], cmap='viridis', alpha=0.5)\n",
    "plt.colorbar(label='Cluster')\n",
    "plt.xlabel('Principal Component 1')\n",
    "plt.ylabel('Principal Component 2')\n",
    "plt.title('PCA of Clusters')\n",
    "plt.show()\n",
    "\n",
    "# DBSCAN clustering\n",
    "dbscan = DBSCAN(eps=0.5, min_samples=5)\n",
    "website_landings_df['Cluster'] = dbscan.fit_predict(X)\n",
    "cluster_counts_dbscan = website_landings_df['Cluster'].value_counts()\n",
    "print(\"\\nDBSCAN Cluster Sizes:\")\n",
    "print(cluster_counts_dbscan)"
   ]
  },
  {
   "cell_type": "code",
   "execution_count": 2,
   "id": "5db092ec-c2c4-44a0-81a7-1c268b57e212",
   "metadata": {},
   "outputs": [
    {
     "ename": "NameError",
     "evalue": "name 'DBSCAN' is not defined",
     "output_type": "error",
     "traceback": [
      "\u001b[0;31m---------------------------------------------------------------------------\u001b[0m",
      "\u001b[0;31mNameError\u001b[0m                                 Traceback (most recent call last)",
      "Cell \u001b[0;32mIn[2], line 1\u001b[0m\n\u001b[0;32m----> 1\u001b[0m dbscan \u001b[38;5;241m=\u001b[39m \u001b[43mDBSCAN\u001b[49m(eps\u001b[38;5;241m=\u001b[39m\u001b[38;5;241m0.5\u001b[39m, min_samples\u001b[38;5;241m=\u001b[39m\u001b[38;5;241m5\u001b[39m)\n\u001b[1;32m      2\u001b[0m sample_df[\u001b[38;5;124m'\u001b[39m\u001b[38;5;124mCluster\u001b[39m\u001b[38;5;124m'\u001b[39m] \u001b[38;5;241m=\u001b[39m dbscan\u001b[38;5;241m.\u001b[39mfit_predict(X_pca)\n\u001b[1;32m      4\u001b[0m \u001b[38;5;66;03m# Check cluster sizes\u001b[39;00m\n",
      "\u001b[0;31mNameError\u001b[0m: name 'DBSCAN' is not defined"
     ]
    }
   ],
   "source": [
    "dbscan = DBSCAN(eps=0.5, min_samples=5)\n",
    "sample_df['Cluster'] = dbscan.fit_predict(X_pca)\n",
    "\n",
    "# Check cluster sizes\n",
    "cluster_counts_dbscan = sample_df['Cluster'].value_counts()\n",
    "print(\"\\nDBSCAN Cluster Sizes:\")\n",
    "print(cluster_counts_dbscan)"
   ]
  },
  {
   "cell_type": "code",
   "execution_count": null,
   "id": "f6376e53-cf30-48cc-a570-cf191b921051",
   "metadata": {},
   "outputs": [],
   "source": [
    "website_landings_df['Is Converted'].value_counts().plot(kind='bar')\n",
    "plt.title('Distribution of Conversion Status')\n",
    "plt.xlabel('Is Converted')\n",
    "plt.ylabel('Count')\n",
    "plt.show()\n"
   ]
  },
  {
   "cell_type": "code",
   "execution_count": null,
   "id": "b3b8b735-17c7-4900-b3b0-bd1e9db8bbf3",
   "metadata": {},
   "outputs": [],
   "source": [
    "\n",
    "cluster_counts = website_landings_df['Cluster'].value_counts()\n",
    "print(\"\\nCluster Sizes:\")\n",
    "print(cluster_counts)\n"
   ]
  },
  {
   "cell_type": "code",
   "execution_count": null,
   "id": "dce54fea-46ef-45c1-9ff3-7f735531200d",
   "metadata": {},
   "outputs": [],
   "source": [
    "print(google_ads_df.head())"
   ]
  },
  {
   "cell_type": "code",
   "execution_count": null,
   "id": "7109d3d5-8728-4f69-8d9c-9ec7ef2e76dc",
   "metadata": {},
   "outputs": [],
   "source": []
  }
 ],
 "metadata": {
  "kernelspec": {
   "display_name": "Python 3 (ipykernel)",
   "language": "python",
   "name": "python3"
  },
  "language_info": {
   "codemirror_mode": {
    "name": "ipython",
    "version": 3
   },
   "file_extension": ".py",
   "mimetype": "text/x-python",
   "name": "python",
   "nbconvert_exporter": "python",
   "pygments_lexer": "ipython3",
   "version": "3.12.4"
  }
 },
 "nbformat": 4,
 "nbformat_minor": 5
}
